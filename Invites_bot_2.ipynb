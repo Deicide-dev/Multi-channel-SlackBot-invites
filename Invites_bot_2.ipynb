{
  "nbformat": 4,
  "nbformat_minor": 0,
  "metadata": {
    "colab": {
      "provenance": [],
      "authorship_tag": "ABX9TyOxCtYzxXebPUCcy/wtHzZH",
      "include_colab_link": true
    },
    "kernelspec": {
      "name": "python3",
      "display_name": "Python 3"
    },
    "language_info": {
      "name": "python"
    }
  },
  "cells": [
    {
      "cell_type": "markdown",
      "metadata": {
        "id": "view-in-github",
        "colab_type": "text"
      },
      "source": [
        "<a href=\"https://colab.research.google.com/github/Deicide-dev/Multi-channel-SlackBot-invites/blob/main/Invites_bot_2.ipynb\" target=\"_parent\"><img src=\"https://colab.research.google.com/assets/colab-badge.svg\" alt=\"Open In Colab\"/></a>"
      ]
    },
    {
      "cell_type": "code",
      "source": [
        "import slack_sdk\n",
        "import time\n",
        "from slack_sdk import WebClient\n",
        "from slack_sdk.errors import SlackApiError\n",
        "\n",
        "# Initialize a Slack API client with your bot token\n",
        "client = WebClient(token=\"YOUR_BOT_TOKEN\")\n",
        "\n",
        "# Prompt the user for a comma-separated list of channel IDs \n",
        "channels = input(\"Enter comma-separated list of channel IDs: \").split(\",\")\n",
        "\n",
        "# Prompt the user for a comma-separated list of user IDs \n",
        "users = input(\"Enter comma-separated list of user IDs: \").split(\",\")\n",
        "\n",
        "# Loop through each channel with a delay of 3 seconds between iterations\n",
        "for channel in channels:\n",
        "    \n",
        "    # Add each user to the channel\n",
        "    for user in users:\n",
        "        try:\n",
        "            response = client.admin_conversations_invite(channel_id=channel, user_ids=[user.strip()])\n",
        "            print(\"User added to channel:\", response[\"channel\"][\"name\"])\n",
        "        except SlackApiError as e:\n",
        "            print(\"Error adding user to channel:\", e)\n",
        "        else:\n",
        "            print(\"Invalid user ID:\", user.strip())\n",
        "            \n",
        "        time.sleep(3)  # Add a delay of 3 seconds between each iteration of the inner loop\n",
        "    \n",
        "    time.sleep(3)  # Add a delay of 3 seconds between each iteration of the outer loop\n",
        "\n",
        "        "
      ],
      "metadata": {
        "id": "RIM8fZFO4iHM"
      },
      "execution_count": null,
      "outputs": []
    },
    {
      "cell_type": "code",
      "source": [
        "!pip install slack_sdk"
      ],
      "metadata": {
        "colab": {
          "base_uri": "https://localhost:8080/"
        },
        "id": "sqOwaP3MOqY4",
        "outputId": "a8936e71-5eb6-4169-c67e-4b3a02950cc8"
      },
      "execution_count": 6,
      "outputs": [
        {
          "output_type": "stream",
          "name": "stdout",
          "text": [
            "Looking in indexes: https://pypi.org/simple, https://us-python.pkg.dev/colab-wheels/public/simple/\n",
            "Requirement already satisfied: slack_sdk in /usr/local/lib/python3.9/dist-packages (3.20.2)\n"
          ]
        }
      ]
    }
  ]
}