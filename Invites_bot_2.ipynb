{
  "nbformat": 4,
  "nbformat_minor": 0,
  "metadata": {
    "colab": {
      "provenance": [],
      "authorship_tag": "ABX9TyNV9cIJpjBgo48AYXeoKVu3",
      "include_colab_link": true
    },
    "kernelspec": {
      "name": "python3",
      "display_name": "Python 3"
    },
    "language_info": {
      "name": "python"
    }
  },
  "cells": [
    {
      "cell_type": "markdown",
      "metadata": {
        "id": "view-in-github",
        "colab_type": "text"
      },
      "source": [
        "<a href=\"https://colab.research.google.com/github/Deicide-dev/Multi-channel-SlackBot-invites/blob/main/Invites_bot_2.ipynb\" target=\"_parent\"><img src=\"https://colab.research.google.com/assets/colab-badge.svg\" alt=\"Open In Colab\"/></a>"
      ]
    },
    {
      "cell_type": "code",
      "source": [
        "import csv\n",
        "import time\n",
        "from slack_sdk import WebClient\n",
        "from slack_sdk.errors import SlackApiError\n",
        "\n",
        "# Initialize a Slack API client with your bot token\n",
        "client = WebClient(token=\"YOUR_BOT_TOKEN\")\n",
        "\n",
        "# Read the CSV file\n",
        "with open(\"channels.csv\", newline=\"\") as csvfile:\n",
        "    reader = csv.DictReader(csvfile)\n",
        "    \n",
        "    # Prompt the user for a comma-separated list of user ID's \n",
        "    users = input(\"Enter comma-separated list of user ID's: \").split(\",\")\n",
        "    \n",
        "    # Loop through each row in the CSV file with a delay of 3 seconds between iterations\n",
        "    for row in reader:\n",
        "        channel = row[\"Channel ID\"]\n",
        "        \n",
        "        # Add each user to the channel\n",
        "        for user in users:\n",
        "            try:\n",
        "                response = client.admin_conversations_invite(channel=channel, users=[user.strip()])\n",
        "                print(\"User added to channel:\", response[\"channel\"][\"name\"])\n",
        "            except SlackApiError as e:\n",
        "                print(\"Error adding user to channel:\", e)\n",
        "            else:\n",
        "                print(\"Invalid user ID:\", user.strip())\n",
        "                \n",
        "            time.sleep(3)  # Add a delay of 3 seconds between each iteration of the inner loop\n",
        "        \n",
        "        time.sleep(3)  # Add a delay of 3 seconds between each iteration of the outer loop"
      ],
      "metadata": {
        "id": "RIM8fZFO4iHM"
      },
      "execution_count": null,
      "outputs": []
    }
  ]
}