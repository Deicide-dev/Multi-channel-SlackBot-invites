{
  "nbformat": 4,
  "nbformat_minor": 0,
  "metadata": {
    "colab": {
      "provenance": [],
      "authorship_tag": "ABX9TyOFxeKELfxVxDU8DVrSCZ+K",
      "include_colab_link": true
    },
    "kernelspec": {
      "name": "python3",
      "display_name": "Python 3"
    },
    "language_info": {
      "name": "python"
    }
  },
  "cells": [
    {
      "cell_type": "markdown",
      "metadata": {
        "id": "view-in-github",
        "colab_type": "text"
      },
      "source": [
        "<a href=\"https://colab.research.google.com/github/Deicide-dev/Multi-channel-SlackBot-invites/blob/main/Invites_bot.ipynb\" target=\"_parent\"><img src=\"https://colab.research.google.com/assets/colab-badge.svg\" alt=\"Open In Colab\"/></a>"
      ]
    },
    {
      "cell_type": "code",
      "execution_count": null,
      "metadata": {
        "id": "w37eUAPzBNyP"
      },
      "outputs": [],
      "source": [
        "import csv\n",
        "from slack_sdk import WebClient\n",
        "from slack_sdk.errors import SlackApiError\n",
        "import re\n",
        "\n",
        "# Replace with your bot's token\n",
        "client = WebClient(token=\"YOUR_BOT_TOKEN\")\n",
        "\n",
        "# Regular expression pattern for matching email addresses\n",
        "email_pattern = r\"[a-zA-Z0-9._%+-]+@[a-zA-Z0-9.-]+\\.[a-zA-Z]{2,}\"\n",
        "\n",
        "# Read the CSV file\n",
        "with open(\"channels.csv\", newline=\"\") as csvfile:\n",
        "    reader = csv.DictReader(csvfile)\n",
        "    # Prompt the user for a comma-separated list of email addresses to add to all channels\n",
        "    users = input(\"Enter comma-separated list of email addresses to add to all channels: \").split(\",\")\n",
        "    # Loop through each row in the CSV file\n",
        "    for row in reader:\n",
        "        channel = row[\"Channel Name\"]\n",
        "        # Add each user to the channel\n",
        "        for user in users:\n",
        "            if re.match(email_pattern, user.strip()):\n",
        "                try:\n",
        "                    response = client.conversations_invite(channel=channel, users=[user.strip()])\n",
        "                    print(\"User added to channel:\", response[\"channel\"][\"name\"])\n",
        "                except SlackApiError as e:\n",
        "                    print(\"Error adding user to channel:\", e)\n",
        "            else:\n",
        "                print(\"Invalid email address:\", user.strip())\n"
      ]
    }
  ]
}